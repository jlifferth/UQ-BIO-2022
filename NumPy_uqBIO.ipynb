{
  "nbformat": 4,
  "nbformat_minor": 0,
  "metadata": {
    "colab": {
      "name": "NumPy - uqBIO.ipynb",
      "provenance": [],
      "collapsed_sections": [],
      "include_colab_link": true
    },
    "kernelspec": {
      "name": "python3",
      "display_name": "Python 3"
    },
    "language_info": {
      "name": "python"
    }
  },
  "cells": [
    {
      "cell_type": "markdown",
      "metadata": {
        "id": "view-in-github",
        "colab_type": "text"
      },
      "source": [
        "<a href=\"https://colab.research.google.com/github/jlifferth/UQ-BIO-2022/blob/main/NumPy_uqBIO.ipynb\" target=\"_parent\"><img src=\"https://colab.research.google.com/assets/colab-badge.svg\" alt=\"Open In Colab\"/></a>"
      ]
    },
    {
      "cell_type": "markdown",
      "metadata": {
        "id": "kQ7PMVeudDRg"
      },
      "source": [
        "# Intro to Python: NumPy and Linear Algebra Review\n",
        "\n",
        "----------\n",
        "## Qbio Summer School 2022\n",
        "\n",
        "--------------\n",
        "```\n",
        "Instructor: Will Raymond\n",
        "Author: Will Raymond\n",
        "Contact Info: wsraymon@rams.colostate.edu\n",
        "\n",
        "```\n",
        "<details>\n",
        "  <summary>Copyright info</summary>\n",
        "\n",
        "```\n",
        "Copyright 2022 Brian Munsky\n",
        "\n",
        "Redistribution and use in source and binary forms, with or without modification, are permitted provided that the following conditions are met:\n",
        "\n",
        "1. Redistributions of source code must retain the above copyright notice, this list of conditions and the following disclaimer.\n",
        "\n",
        "2. Redistributions in binary form must reproduce the above copyright notice, this list of conditions and the following disclaimer in the documentation and/or other materials provided with the distribution.\n",
        "\n",
        "3. Neither the name of the copyright holder nor the names of its contributors may be used to endorse or promote products derived from this software without specific prior written permission.\n",
        "\n",
        "THIS SOFTWARE IS PROVIDED BY THE COPYRIGHT HOLDERS AND CONTRIBUTORS \"AS IS\" AND ANY EXPRESS OR IMPLIED WARRANTIES, INCLUDING, BUT NOT LIMITED TO, THE IMPLIED WARRANTIES OF MERCHANTABILITY AND FITNESS FOR A PARTICULAR PURPOSE ARE DISCLAIMED. IN NO EVENT SHALL THE COPYRIGHT HOLDER OR CONTRIBUTORS BE LIABLE FOR ANY DIRECT, INDIRECT, INCIDENTAL, SPECIAL, EXEMPLARY, OR CONSEQUENTIAL DAMAGES (INCLUDING, BUT NOT LIMITED TO, PROCUREMENT OF SUBSTITUTE GOODS OR SERVICES; LOSS OF USE, DATA, OR PROFITS; OR BUSINESS INTERRUPTION) HOWEVER CAUSED AND ON ANY THEORY OF LIABILITY, WHETHER IN CONTRACT, STRICT LIABILITY, OR TORT (INCLUDING NEGLIGENCE OR OTHERWISE) ARISING IN ANY WAY OUT OF THE USE OF THIS SOFTWARE, EVEN IF ADVISED OF THE POSSIBILITY OF SUCH DAMAGE.\n",
        "```\n",
        "<details>"
      ]
    },
    {
      "cell_type": "markdown",
      "metadata": {
        "id": "hKUM83zzMfrg"
      },
      "source": [
        "## NumPy\n",
        "\n",
        "numpy and scipy are ubiquitous in the world of scientific computing in Python. NumPy, NumericPython, is a library that gives access to a lot of generalized array functions for linear algebra or manipulation that is not available with the list type in Python.\n",
        "\n",
        "The core of numpy is the array so lets take a look at that first.\n",
        "\n",
        "[Numpy Documentation](https://numpy.org/doc/stable/user/whatisnumpy.html)"
      ]
    },
    {
      "cell_type": "markdown",
      "metadata": {
        "id": "lxDxzYg4O34d"
      },
      "source": [
        "## Array information methods\n",
        "\n",
        "Numpy has some convenience methods to get information such as shape, dimensions, and information type."
      ]
    },
    {
      "cell_type": "code",
      "metadata": {
        "id": "7enN7MQdc_6a",
        "colab": {
          "base_uri": "https://localhost:8080/"
        },
        "outputId": "aa6ba07a-5cba-402b-8cbb-087e1f6ce396"
      },
      "source": [
        "import numpy as np\n",
        "\n",
        "my_list = [0,1,2,3,4]\n",
        "my_np_array = np.array(my_list)\n",
        "\n",
        "print(my_np_array)\n",
        "my_np_array.dtype"
      ],
      "execution_count": 9,
      "outputs": [
        {
          "output_type": "stream",
          "name": "stdout",
          "text": [
            "[0 1 2 3 4]\n"
          ]
        },
        {
          "output_type": "execute_result",
          "data": {
            "text/plain": [
              "dtype('int64')"
            ]
          },
          "metadata": {},
          "execution_count": 9
        }
      ]
    },
    {
      "cell_type": "markdown",
      "metadata": {
        "id": "9DKQJ6PQPC1z"
      },
      "source": [
        "Numpy has some convenience methods to get information such as shape, dimensions, and information type.\n",
        "\n",
        "Here's some common ones:\n",
        "\n",
        "given ```arr = np.array([[0,1,2,3,4]])```\n",
        "\n",
        "| Method    | Description  | Result\n",
        "| ----------- | ----------- | ------------ | \n",
        "| arr.shape   |  returns a tuple of the size of each dimensions | ```(1,5) ```   |\n",
        "| arr.ndim | number of dimensions |```2 ```   | \n",
        "| arr.dtype   |  the datatype of the info inside the array | ```dtype('int64') ```    \n",
        "| arr.size | integer total entries of this array | ```5```  |  \n",
        "| arr.nbytes | the number of bytes consumed by storing only the information inside the array | ``` 40 ```| \n"
      ]
    },
    {
      "cell_type": "code",
      "metadata": {
        "colab": {
          "base_uri": "https://localhost:8080/"
        },
        "id": "vPnY4LuYO8bM",
        "cellView": "form",
        "outputId": "05a4d955-50a5-4257-a48e-521ae12ed746"
      },
      "source": [
        "arr = np.array([[0,1,2,3,4]])\n",
        "\n",
        "dropdown = 'nbytes' #@param [\"shape\", \"ndim\", \"dtype\",\"size\",\"nbytes\"]\n",
        "\n",
        "desc = {'shape': '',\n",
        "               'ndim': 'dimensions',\n",
        "               'dtype': '',\n",
        "               'size': 'elements',\n",
        "               'nbytes':'bytes'}\n",
        "\n",
        "arr_methods = {'shape': arr.shape,\n",
        "               'ndim':arr.ndim,\n",
        "               'dtype':arr.dtype,\n",
        "               'size':arr.size,\n",
        "               'nbytes':arr.nbytes}\n",
        "\n",
        "\n",
        "print('The %s of the array is %s %s' % (dropdown, str(arr_methods[dropdown]), desc[dropdown] ))\n"
      ],
      "execution_count": 7,
      "outputs": [
        {
          "output_type": "stream",
          "name": "stdout",
          "text": [
            "The nbytes of the array is 40 bytes\n"
          ]
        }
      ]
    },
    {
      "cell_type": "markdown",
      "metadata": {
        "id": "6PKZyosKS8nD"
      },
      "source": [
        "## Array allocation methods\n",
        "\n",
        "| Method    | Description  | Examples  | Result\n",
        "| ----------- | ----------- | ------------ | ------------ | \n",
        "| np.zeros([n1,n2...]) |  Returns an ndim array of zeros  | ```np.zeros([10,10,10]) ```   | a (10 x 10 x 10) 3d array of zeros\n",
        "| np.ones([n1,n2...]) | Returns an ndim array of ones  |```np.ones([3,5]) ```   | a (3 x 5) 2d array of ones |\n",
        "| np.array([n1,n2...]) | converts an iterable to an array | ``np.array([1,2,3])``  |  a 1d array of [1,2,3] |\n",
        "| np.empty([n1,n2...]) | an empty ndim array | ``` np.empty([3,3]) ```| a (3 x 3) empty array - note values will be from whatever memory it allocated.\n",
        "\n",
        "Specific cases for easily allocating ranges/identity matrix \n",
        "\n",
        "| Method    | Description  | Examples  \n",
        "| ----------- | ----------- | ------------ | \n",
        "| np.linspace(start, stop, n_steps) | returns a linearly spaced array from start to stop with n_steps | ```np.linspace(0,10,11) ```  |  \n",
        "| np.logspace(start, stop, n_steps) | returns a linearly spaced array from 10^start to 10^stop with n_step | ``` np.logspace(0,10,11)```| \n",
        "| np.eye(N)   | gives a 2d identify matrix of NxN|  ```np.eye(3) ```   | a (3 x 3) identity matrix (diagonals are 1)"
      ]
    },
    {
      "cell_type": "code",
      "metadata": {
        "colab": {
          "base_uri": "https://localhost:8080/"
        },
        "id": "fs7v6BGRbMYg",
        "outputId": "b23c0347-ab70-4e5c-a4a1-b5c3064cb748"
      },
      "source": [
        "print('np.zeros:')\n",
        "print(np.zeros([3,3]))\n",
        "\n",
        "print('')\n",
        "print('np.ones:')\n",
        "print(np.ones([3,3]))\n",
        "\n",
        "print('')\n",
        "list_of_lists = [ [y for y in range(0,3)] for x in range(0,3)]\n",
        "print('np.array() of a list of lists')\n",
        "print(np.array(list_of_lists ))\n",
        "\n",
        "print('')\n",
        "print('np.empty:')\n",
        "print(np.empty([3,3]))\n",
        "print('')\n",
        "print('np.eye(3):')\n",
        "print(np.eye(3))"
      ],
      "execution_count": 10,
      "outputs": [
        {
          "output_type": "stream",
          "name": "stdout",
          "text": [
            "np.zeros:\n",
            "[[0. 0. 0.]\n",
            " [0. 0. 0.]\n",
            " [0. 0. 0.]]\n",
            "\n",
            "np.ones:\n",
            "[[1. 1. 1.]\n",
            " [1. 1. 1.]\n",
            " [1. 1. 1.]]\n",
            "\n",
            "np.array() of a list of lists\n",
            "[[0 1 2]\n",
            " [0 1 2]\n",
            " [0 1 2]]\n",
            "\n",
            "np.empty:\n",
            "[[0.e+000 5.e-324 1.e-323]\n",
            " [0.e+000 5.e-324 1.e-323]\n",
            " [0.e+000 5.e-324 1.e-323]]\n",
            "\n",
            "np.eye(3):\n",
            "[[1. 0. 0.]\n",
            " [0. 1. 0.]\n",
            " [0. 0. 1.]]\n"
          ]
        }
      ]
    },
    {
      "cell_type": "code",
      "metadata": {
        "colab": {
          "base_uri": "https://localhost:8080/"
        },
        "id": "_7DYx1D5cxLl",
        "outputId": "859a3118-1908-490f-8e9f-5de837484e77"
      },
      "source": [
        "start = 1\n",
        "stop = 10\n",
        "n_steps = 11\n",
        "print(np.linspace(start, stop, n_steps))\n",
        "print(np.logspace(np.log10(start), np.log10(stop), n_steps))"
      ],
      "execution_count": 11,
      "outputs": [
        {
          "output_type": "stream",
          "name": "stdout",
          "text": [
            "[ 1.   1.9  2.8  3.7  4.6  5.5  6.4  7.3  8.2  9.1 10. ]\n",
            "[ 1.          1.25892541  1.58489319  1.99526231  2.51188643  3.16227766\n",
            "  3.98107171  5.01187234  6.30957344  7.94328235 10.        ]\n"
          ]
        }
      ]
    },
    {
      "cell_type": "markdown",
      "metadata": {
        "id": "dlES1vmKbOeS"
      },
      "source": [
        "## Array manipulation methods\n",
        "\n",
        "### Slicing/ Indexing rules\n",
        "\n",
        "**array[ row, column, ...., n ]**\n",
        "\n",
        "each dimension can be sliced or index just like its a python list:\n",
        "\n",
        "for example lets consider this array \n",
        "\n",
        "```\n",
        "arr = np.array([[1,2,3], \\\n",
        "                [4,5,6], \\\n",
        "                [7,8,9]])\n",
        "```\n",
        "\n",
        "| Example    | Description  | Result  \n",
        "| ----------- | ----------- | ------------ | \n",
        "| arr[0] | row 0 | ``` [1,2,3] ```  |  \n",
        "| arr[0,0]| element in row 0, column 0 | ``` [1]```| \n",
        "| arr[:,0]| column 0 | ``` [1,4,7]```| \n",
        "| arr[0:2,0:2]| top left block of size 2 x 2 | ``` array([[1,2],[4,5]])```| \n",
        "| arr[::-1]| reverses the rows | ```[[7,8,9],[4,5,6],[1,2,3]] ```| \n",
        "| arr[::-1, ::-1]| reverses the rows AND columns | ```[[9,8,7],[6,5,4],[3,2,1]] ```|\n",
        "\n",
        "\n",
        "### Array logicals\n",
        "\n",
        "numpy arrays will accept logical indexing or any indexing as long as the shape and maximum indices are correct.\n",
        "\n",
        "| Example    | Description  | Result  \n",
        "| ----------- | ----------- | ------------ | \n",
        "| arr[arr > 5 ]| returns all elements greater than 5| ```array([6, 7, 8, 9]) ```|  \n",
        "| arr[1][arr[1] > 5 ]| returns all elements in row 1 greater than 5| ```array([6]) ```|  \n",
        "\n",
        "## Other common manipulation methods:\n",
        "\n",
        "| Method    | Description  | Examples  \n",
        "| ----------- | ----------- | ------------ | \n",
        "| arr.reshape() | will resize an array, the new size must have the same amount of elements!| ```arr.resize(1,9)```  |  \n",
        "| arr.T | transposes the array | ``` arr.T```| \n",
        "| np.expand_dims(array, axis) | adds an axis to a given array| ``` np.expand_dims(arr,axis=0)```| \n",
        "| arr.flatten()   | flattens an array to 1 dimension |  ```arr.flatten()```   | \n",
        "| np.diag(array,offset)   | gets the diagonal of an array based on offset from middle diag |  ```np.diag(arr,0)```   | \n",
        "| np.where(statement)   | returns indexes matching the statement |  ```np.where(arr < 5)```   | \n",
        "| np.at_least2d(arr)   | adds an axis to a 1d array if needed, leaves any ndim >= 2 alone|  ```np.atleast_2d(arr)```   | \n",
        "| np.tile(iterable, N) | repeat an iterable object N times along an axis | ``` np.tile(arr, N)```|\n",
        "| np.hstack(iterable of iterables) |Horizontally stack the arrays provided in an iterable (list of arrays) | ```np.hstack([arr1,arr2])``` |\n",
        "| np.vstack(iterable of iterables) | Vertically stack the arrays provided in an iterable (list of arrays) | ```np.vstack([arr1,arr2])```|\n",
        "| ___.astype(dtype) | convert a given array to a particular data type | ```np.array([1.2,1.4,1.5]).astype(int)```|\n",
        "| ___.tolist() | convert a given array to a python list or lists of lists| ```np.array([1.2,1.4,1.5]).tolist()```|\n",
        "\n"
      ]
    },
    {
      "cell_type": "code",
      "metadata": {
        "colab": {
          "base_uri": "https://localhost:8080/"
        },
        "id": "8NYrjNUngD-1",
        "outputId": "5fda1706-12f8-44dc-c621-4ffc62253f46"
      },
      "source": [
        "arr = np.array([[1,2,3], \\\n",
        "                [4,5,6], \\\n",
        "                [7,8,9]])\n",
        "\n",
        "print('')\n",
        "print('Original:')\n",
        "print(arr)\n",
        "\n",
        "print('')\n",
        "print('Reshaped:')\n",
        "print(arr.reshape(1,9))\n",
        "\n",
        "print('')\n",
        "print('Flattened:')\n",
        "print(arr.flatten())\n",
        "\n",
        "print('')\n",
        "print('Transpose:')\n",
        "print(arr.T)\n",
        "\n",
        "print('')\n",
        "print('add an extra dimension to the front:')\n",
        "print(np.expand_dims(arr, axis=0))\n",
        "\n",
        "print('')\n",
        "print('middle diagonal:')\n",
        "print(np.diag(arr, 0))\n",
        "\n",
        "print('')\n",
        "print('indexes of array where the element is less than 5:')\n",
        "print(np.where(arr < 5))\n",
        "\n",
        "\n",
        "print('')\n",
        "print('convert the array to the floating point datatype')\n",
        "print(arr.astype(np.float64))\n",
        "\n",
        "\n",
        "print('')\n",
        "print('convert the array to a python list')\n",
        "print(arr.tolist())\n"
      ],
      "execution_count": null,
      "outputs": [
        {
          "output_type": "stream",
          "name": "stdout",
          "text": [
            "\n",
            "Original:\n",
            "[[1 2 3]\n",
            " [4 5 6]\n",
            " [7 8 9]]\n",
            "\n",
            "Reshaped:\n",
            "[[1 2 3 4 5 6 7 8 9]]\n",
            "\n",
            "Flattened:\n",
            "[1 2 3 4 5 6 7 8 9]\n",
            "\n",
            "Transpose:\n",
            "[[1 4 7]\n",
            " [2 5 8]\n",
            " [3 6 9]]\n",
            "\n",
            "add an extra dimension to the front:\n",
            "[[[1 2 3]\n",
            "  [4 5 6]\n",
            "  [7 8 9]]]\n",
            "\n",
            "middle diagonal:\n",
            "[1 5 9]\n",
            "\n",
            "indexes of array where the element is less than 5:\n",
            "(array([0, 0, 0, 1]), array([0, 1, 2, 0]))\n",
            "\n",
            "convert the array to the floating point datatype\n",
            "[[1. 2. 3.]\n",
            " [4. 5. 6.]\n",
            " [7. 8. 9.]]\n",
            "\n",
            "convert the array to a python list\n",
            "[[1, 2, 3], [4, 5, 6], [7, 8, 9]]\n"
          ]
        }
      ]
    },
    {
      "cell_type": "markdown",
      "metadata": {
        "id": "Hs_77nq8eNKk"
      },
      "source": [
        "## Linear algebra with Numpy\n",
        "\n",
        "heres some examples of basic operations:"
      ]
    },
    {
      "cell_type": "code",
      "metadata": {
        "colab": {
          "base_uri": "https://localhost:8080/"
        },
        "id": "fL8ejwYwzGMp",
        "outputId": "99cb942e-f82a-48e9-dc06-5b8219f22049"
      },
      "source": [
        "A = np.array([[1, 2], [3, 4]]) #matrix 1\n",
        "B = np.array([[5, 6], [7, 8]]) #matrix 2\n",
        "n = 5\n",
        "\n",
        "dropdown = 'scalar addition' #@param [\"matrix multiplication\", \"matrix division\",\"scalar multiplication\", \"matrix subtraction\",\"matrix addition\",\"scalar addition\"]\n",
        "examples = {'matrix multiplication': A*B,\n",
        "            'matrix division': A/B,\n",
        "            'scalar multiplication': n*A,\n",
        "            'matrix subtraction': A - B,\n",
        "            'matrix addition': A + B,\n",
        "            'scalar addition': n + A,\n",
        "            }\n",
        "examples_str = {'matrix multiplication': 'A * B:',\n",
        "            'matrix division': 'A / B:',\n",
        "            'scalar multiplication': 'n*A',\n",
        "            'matrix subtraction': 'A - B:',\n",
        "            'matrix addition': 'A + B:',\n",
        "            'scalar addition': 'n + A',\n",
        "            }\n",
        "print(examples_str[dropdown])\n",
        "examples[dropdown]"
      ],
      "execution_count": null,
      "outputs": [
        {
          "output_type": "stream",
          "name": "stdout",
          "text": [
            "n + A\n"
          ]
        },
        {
          "output_type": "execute_result",
          "data": {
            "text/plain": [
              "array([[6, 7],\n",
              "       [8, 9]])"
            ]
          },
          "metadata": {},
          "execution_count": 6
        }
      ]
    },
    {
      "cell_type": "markdown",
      "metadata": {
        "id": "1H5V6SCT2Eee"
      },
      "source": [
        "Short list of linear algebra functionality in numpy\n",
        "\n",
        "| Method    | Description  | \n",
        "| ----------- | ----------- |\n",
        "| np.cross | cross product of vectors| \n",
        "| np.dot | dot product of arrays | \n",
        "| np.linalg.det | determinant of a matrix |\n",
        "| np.linalg.inner | inner product | \n",
        "| np.linalg.outer | outer product| \n",
        "| np.matmul  | matrix product | \n",
        "| np.trace | trace of a matrix  | \n",
        "| np.linalg.norm | norm of a vector or matrix, takes arguments for nuclear/frobenius | \n",
        "| np.linalg.matrix_rank | rank of a matrix | \n",
        "| np.linalg.cond | condition of a matrix |\n",
        "| np.linalg.inv  | matrix inverse (multiplicative) |  \n",
        "| np.linalg.pinv  | matrix psuedo-inverse (Moore-Penrose) | \n",
        "| np.linalg.svd | Single Value Decomposition |\n",
        "| np.linalg.null* | Null space |\n",
        "\n",
        "For more specific commands check out the linalg module in numpy:\n",
        "https://numpy.org/doc/stable/reference/routines.linalg.html"
      ]
    },
    {
      "cell_type": "markdown",
      "metadata": {
        "id": "PI-mbvbl3U8-"
      },
      "source": [
        "### Eigen vectors and values\n",
        "\n",
        "| Method    | Description  | Examples  \n",
        "| ----------- | ----------- | ------------ | \n",
        "| np.linalg.eig | returns the eigen vectors and values of a matrix| |  \n",
        "| np.linalg.eigvals | returns the eigenvalues of a matrix | \n",
        "\n"
      ]
    },
    {
      "cell_type": "code",
      "metadata": {
        "colab": {
          "base_uri": "https://localhost:8080/"
        },
        "id": "cp5oSUx8BPmI",
        "outputId": "6ce91724-630c-49c1-eb89-e38c49cdfb21"
      },
      "source": [
        "random_matrix = np.random.randint(0,100,size=(5,5))\n",
        "eigenvals, eigenvecs = np.linalg.eig(random_matrix)\n",
        "\n",
        "print('Random matrix:')\n",
        "print(random_matrix)\n",
        "print('')\n",
        "print('Eigen vectors:')\n",
        "print(eigenvecs)\n",
        "print('')\n",
        "print('Eigen values:')\n",
        "print(eigenvals)"
      ],
      "execution_count": null,
      "outputs": [
        {
          "output_type": "stream",
          "name": "stdout",
          "text": [
            "Random matrix:\n",
            "[[72 91 26 32 96]\n",
            " [25 11 24 97 96]\n",
            " [19 52 61 47 88]\n",
            " [44 35 98 86 69]\n",
            " [81 54 61 20 39]]\n",
            "\n",
            "Eigen vectors:\n",
            "[[ 0.48691204+0.j         -0.24630437-0.24764677j -0.24630437+0.24764677j\n",
            "  -0.55954441+0.j          0.24149516+0.j        ]\n",
            " [ 0.40795394+0.j          0.7821585 +0.j          0.7821585 -0.j\n",
            "   0.29765305+0.j         -0.49919155+0.j        ]\n",
            " [ 0.40613718+0.j          0.03163788-0.19932655j  0.03163788+0.19932655j\n",
            "   0.20477556+0.j          0.15601191+0.j        ]\n",
            " [ 0.52338157+0.j          0.03237416+0.12365615j  0.03237416-0.12365615j\n",
            "   0.62085368+0.j         -0.64003506+0.j        ]\n",
            " [ 0.39700702+0.j         -0.39647448+0.22797004j -0.39647448-0.22797004j\n",
            "  -0.41342519+0.j          0.5084322 +0.j        ]]\n",
            "\n",
            "Eigen values:\n",
            "[282.60120012 +0.j         -40.54908787+29.28404406j\n",
            " -40.54908787-29.28404406j  49.50117411 +0.j\n",
            "  17.9958015  +0.j        ]\n"
          ]
        }
      ]
    },
    {
      "cell_type": "markdown",
      "metadata": {
        "id": "oQwASCHD4Vur"
      },
      "source": [
        "## Random sampling with Numpy\n",
        "\n",
        "Numpy provides a very nice random sampling library that is is widely used throughout scientific computing. \n",
        "\n",
        "```np.random.____```\n",
        "\n",
        "| Method    | Description  | \n",
        "| ----------- | ----------- |\n",
        "| rand | uniform random from 0 to 1| \n",
        "| randn | univariate normal from a mean of 0 and a variance of 1 | \n",
        "| randint| random integers from low to high|\n",
        "| choice | pick a uniform random value from an array | \n",
        "| shuffle | shuffles an array along the first axis| \n",
        "\n",
        "Additionally np.random can sample from a list of statistical distributions, heres a short list: \n",
        "\n",
        "| Distribution    |\n",
        "| ----------- | \n",
        "| [beta](https://en.wikipedia.org/wiki/Beta_distribution) | \n",
        "| [gamma](https://en.wikipedia.org/wiki/Gamma_distribution) | \n",
        "| [lognormal](https://en.wikipedia.org/wiki/Log-normal_distribution)| \n",
        "| [multivariate normal](https://en.wikipedia.org/wiki/Multivariate_normal_distribution) | \n",
        "| [poisson](https://en.wikipedia.org/wiki/Poisson_distribution) |\n",
        "| [uniform](https://en.wikipedia.org/wiki/Continuous_uniform_distribution) |  \n",
        "| [power](https://en.wikipedia.org/wiki/Power_law) |\n",
        "\n",
        "\n",
        "We can additionally set the rng state with np.random.seed(integer) \n",
        "\n",
        "| Method    | Description  | \n",
        "| ----------- | ----------- |\n",
        "| seed | set the seed of the RNG | \n",
        "| get_state | get the current state of the mersenne twister | "
      ]
    },
    {
      "cell_type": "code",
      "metadata": {
        "colab": {
          "base_uri": "https://localhost:8080/",
          "height": 282
        },
        "id": "LlVpu-2m731I",
        "outputId": "57714932-dfc7-40a8-b130-2c10025003a8",
        "cellView": "form"
      },
      "source": [
        "import matplotlib.pyplot as plt\n",
        "import numpy.random as rng\n",
        "\n",
        "n = 68 #@param {type:\"slider\", min:1, max:1000, step:1}\n",
        "random_numbers = rng.rand(2,n)\n",
        "\n",
        "dropdown = 'randn' #@param [\"rand\",\"randn\",\"randint\"]\n",
        "examples_str = {'rand': rng.rand(2,n),\n",
        "            'randn': rng.randn(2,n),\n",
        "            'randint': rng.randint(0,1000,size = (2,n))}\n",
        "\n",
        "random_numbers = examples_str[dropdown]\n",
        "plt.plot(random_numbers[0],random_numbers[1],'o' )"
      ],
      "execution_count": 14,
      "outputs": [
        {
          "output_type": "execute_result",
          "data": {
            "text/plain": [
              "[<matplotlib.lines.Line2D at 0x7fc2b829e110>]"
            ]
          },
          "metadata": {},
          "execution_count": 14
        },
        {
          "output_type": "display_data",
          "data": {
            "text/plain": [
              "<Figure size 432x288 with 1 Axes>"
            ],
            "image/png": "[encoded data removed]"
          },
          "metadata": {
            "needs_background": "light"
          }
        }
      ]
    },
    {
      "cell_type": "code",
      "metadata": {
        "colab": {
          "base_uri": "https://localhost:8080/",
          "height": 320
        },
        "id": "ji-0GVhp-deP",
        "outputId": "03415378-d254-42e2-e3a7-e5b822d38010",
        "cellView": "form"
      },
      "source": [
        "import matplotlib.pyplot as plt\n",
        "import numpy.random as rng\n",
        "\n",
        "n = 674 #@param {type:\"slider\", min:1, max:1000, step:1}\n",
        "mean1 = 33 #@param {type:\"slider\", min:1, max:100, step:1}\n",
        "mean2 = 12 #@param {type:\"slider\", min:1, max:100, step:1}\n",
        "cov = rng.randn(2,2)*3\n",
        "cov[0,0] = 2; cov[1,1] = 2;\n",
        "random_numbers = rng.multivariate_normal(np.array([mean1,mean2]), cov, size=n).T\n",
        "\n",
        "\n",
        "\n",
        "plt.plot(random_numbers[0],random_numbers[1],'o' )"
      ],
      "execution_count": null,
      "outputs": [
        {
          "output_type": "stream",
          "name": "stderr",
          "text": [
            "/usr/local/lib/python3.7/dist-packages/ipykernel_launcher.py:9: RuntimeWarning: covariance is not positive-semidefinite.\n",
            "  if __name__ == '__main__':\n"
          ]
        },
        {
          "output_type": "execute_result",
          "data": {
            "text/plain": [
              "[<matplotlib.lines.Line2D at 0x7fbf4591a4d0>]"
            ]
          },
          "metadata": {},
          "execution_count": 9
        },
        {
          "output_type": "display_data",
          "data": {
            "text/plain": [
              "<Figure size 432x288 with 1 Axes>"
            ],
            "image/png": "[encoded data removed]"
          },
          "metadata": {
            "needs_background": "light"
          }
        }
      ]
    },
    {
      "cell_type": "code",
      "metadata": {
        "colab": {
          "base_uri": "https://localhost:8080/",
          "height": 597
        },
        "id": "t1L4Qb4Q_p2l",
        "outputId": "9fff426d-ff12-45ec-c547-2ae9ebaa82a2",
        "cellView": "form"
      },
      "source": [
        "import matplotlib.pyplot as plt\n",
        "import numpy.random as rng\n",
        "\n",
        "n = 781 #@param {type:\"slider\", min:1, max:1000, step:1}\n",
        "mean = 1.9 #@param {type:\"slider\", min:0.1, max:5, step:0.1}\n",
        "sigma = 0.7 #@param {type:\"slider\", min:0.1, max:5, step:0.1}\n",
        "\n",
        "random_numbers = rng.lognormal(mean,sigma, size=(n))\n",
        "\n",
        "\n",
        "\n",
        "plt.hist(random_numbers,density=True,bins=40 )"
      ],
      "execution_count": null,
      "outputs": [
        {
          "output_type": "execute_result",
          "data": {
            "text/plain": [
              "(array([0.05604478, 0.11586785, 0.10012494, 0.06926882, 0.04345044,\n",
              "        0.02833725, 0.02581838, 0.01448348, 0.01259433, 0.00629717,\n",
              "        0.00251887, 0.00503773, 0.0037783 , 0.        , 0.00125943,\n",
              "        0.00251887, 0.00062972, 0.        , 0.00062972, 0.00125943,\n",
              "        0.        , 0.00062972, 0.        , 0.        , 0.        ,\n",
              "        0.        , 0.        , 0.        , 0.        , 0.        ,\n",
              "        0.        , 0.00062972, 0.        , 0.        , 0.        ,\n",
              "        0.        , 0.        , 0.        , 0.        , 0.00062972]),\n",
              " array([ 1.0073232 ,  3.04063432,  5.07394544,  7.10725656,  9.14056768,\n",
              "        11.1738788 , 13.20718992, 15.24050104, 17.27381216, 19.30712328,\n",
              "        21.3404344 , 23.37374552, 25.40705664, 27.44036776, 29.47367888,\n",
              "        31.50699   , 33.54030112, 35.57361224, 37.60692336, 39.64023448,\n",
              "        41.6735456 , 43.70685672, 45.74016784, 47.77347896, 49.80679008,\n",
              "        51.8401012 , 53.87341232, 55.90672344, 57.94003456, 59.97334568,\n",
              "        62.0066568 , 64.03996792, 66.07327904, 68.10659016, 70.13990128,\n",
              "        72.1732124 , 74.20652352, 76.23983464, 78.27314576, 80.30645688,\n",
              "        82.339768  ]),\n",
              " <a list of 40 Patch objects>)"
            ]
          },
          "metadata": {},
          "execution_count": 10
        },
        {
          "output_type": "display_data",
          "data": {
            "text/plain": [
              "<Figure size 432x288 with 1 Axes>"
            ],
            "image/png": "[encoded data removed]"
          },
          "metadata": {
            "needs_background": "light"
          }
        }
      ]
    },
    {
      "cell_type": "code",
      "metadata": {
        "colab": {
          "base_uri": "https://localhost:8080/",
          "height": 357
        },
        "id": "ekZ5NFvVBhkB",
        "outputId": "678e2a3f-ab8e-4f4d-d625-224c39984f63"
      },
      "source": [
        "import matplotlib.pyplot as plt\n",
        "import numpy.random as rng\n",
        "\n",
        "n = 781 #@param {type:\"slider\", min:1, max:1000, step:1}\n",
        "\n",
        "lam = 0.8 #@param {type:\"slider\", min:0.1, max:5, step:0.1}\n",
        "\n",
        "random_numbers = rng.poisson(lam, size=(n))\n",
        "\n",
        "\n",
        "\n",
        "plt.hist(random_numbers,density=True,bins=max(random_numbers+1), align='mid' )"
      ],
      "execution_count": null,
      "outputs": [
        {
          "output_type": "execute_result",
          "data": {
            "text/plain": [
              "(array([0.5362356 , 0.43482714, 0.16901408, 0.03994878, 0.01536492,\n",
              "        0.00460948]),\n",
              " array([0.        , 0.83333333, 1.66666667, 2.5       , 3.33333333,\n",
              "        4.16666667, 5.        ]),\n",
              " <a list of 6 Patch objects>)"
            ]
          },
          "metadata": {},
          "execution_count": 11
        },
        {
          "output_type": "display_data",
          "data": {
            "text/plain": [
              "<Figure size 432x288 with 1 Axes>"
            ],
            "image/png": "[encoded data removed]"
          },
          "metadata": {
            "needs_background": "light"
          }
        }
      ]
    },
    {
      "cell_type": "markdown",
      "source": [
        "## Questions"
      ],
      "metadata": {
        "id": "YWeY6bWF_5W0"
      }
    },
    {
      "cell_type": "code",
      "source": [
        "from numpy.ma.core import diag\n",
        "# Get the diagonal of the following matrix\n",
        "\n",
        "matrix = np.array([[1,2,3,],\n",
        "                   [3,4,5,],\n",
        "                   [6,7,8,]])\n",
        "\n",
        "diagonal = []\n",
        "for i in range(0, matrix.shape[0]):\n",
        "  for j in range(0, matrix.shape[1]):\n",
        "    if i == j:\n",
        "      diagonal = diagonal + [matrix[i, j]]\n",
        "\n",
        "print(diagonal)\n",
        "\n",
        "\n",
        "print(np.diag(matrix, k=-1))\n",
        "np.diag?"
      ],
      "metadata": {
        "id": "c6Uj9ctBWo3s",
        "outputId": "3f8d068e-ee1d-453d-d800-eb06a2863cba",
        "colab": {
          "base_uri": "https://localhost:8080/"
        }
      },
      "execution_count": 18,
      "outputs": [
        {
          "output_type": "stream",
          "name": "stdout",
          "text": [
            "[1, 4, 8]\n",
            "[3 7]\n"
          ]
        }
      ]
    },
    {
      "cell_type": "code",
      "source": [
        "# make a 4x4 Identity matrix \n",
        "\n",
        "identity_mat = 1\n",
        "\n",
        "np.eye(4)"
      ],
      "metadata": {
        "id": "40Q3Wt87uKTI",
        "outputId": "7a4a7a47-6ea0-4bba-9ff8-a1179c76c5e5",
        "colab": {
          "base_uri": "https://localhost:8080/"
        }
      },
      "execution_count": 19,
      "outputs": [
        {
          "output_type": "execute_result",
          "data": {
            "text/plain": [
              "array([[1., 0., 0., 0.],\n",
              "       [0., 1., 0., 0.],\n",
              "       [0., 0., 1., 0.],\n",
              "       [0., 0., 0., 1.]])"
            ]
          },
          "metadata": {},
          "execution_count": 19
        }
      ]
    },
    {
      "cell_type": "code",
      "source": [
        "# take the upper left 3x3 of the following matrix:\n",
        "\n",
        "random_mat = np.random.randint(0,10, size=[10,10])\n",
        "\n",
        "print(random_mat)\n",
        "\n",
        "upper_3by3 = random_mat[:3,:3]\n",
        "print(upper_3by3)"
      ],
      "metadata": {
        "id": "wJ5j5u7LuKbV",
        "outputId": "fc97236d-736f-40da-f03e-fc281c60b9a9",
        "colab": {
          "base_uri": "https://localhost:8080/"
        }
      },
      "execution_count": 26,
      "outputs": [
        {
          "output_type": "stream",
          "name": "stdout",
          "text": [
            "[[7 2 1 6 4 4 8 8 2 5]\n",
            " [2 6 9 5 0 5 8 5 4 5]\n",
            " [8 5 8 3 7 8 7 6 6 7]\n",
            " [1 3 1 4 4 6 9 1 9 9]\n",
            " [0 2 6 0 7 7 8 8 1 5]\n",
            " [4 8 1 0 7 8 6 9 0 6]\n",
            " [3 4 5 5 4 9 3 2 1 3]\n",
            " [5 0 6 1 6 9 3 6 5 9]\n",
            " [2 8 8 0 5 6 0 6 3 8]\n",
            " [2 4 6 2 4 4 6 4 6 2]]\n",
            "[[7 2 1]\n",
            " [2 6 9]\n",
            " [8 5 8]]\n"
          ]
        }
      ]
    },
    {
      "cell_type": "code",
      "source": [
        "# Flip this array vertically\n",
        "\n",
        "random_mat = np.random.randint(0,10, size=[10,10])\n",
        "print(random_mat)\n",
        "\n",
        "random_mat_flipped_ud = random_mat[::-1,]\n",
        "print(random_mat_flipped_ud)\n",
        "\n",
        "print(np.flipud(random_mat))\n",
        "print(np.fliplr(random_mat))\n"
      ],
      "metadata": {
        "id": "SvCqtnx5uKp9",
        "outputId": "e262f136-51b8-4e4c-9bfc-4816f4e19bba",
        "colab": {
          "base_uri": "https://localhost:8080/"
        }
      },
      "execution_count": 31,
      "outputs": [
        {
          "output_type": "stream",
          "name": "stdout",
          "text": [
            "[[2 2 2 3 0 8 9 1 8 0]\n",
            " [7 8 1 3 5 7 8 2 2 6]\n",
            " [5 9 7 0 3 7 1 8 8 9]\n",
            " [4 0 8 8 8 8 7 4 1 5]\n",
            " [4 7 8 1 3 5 3 7 9 3]\n",
            " [5 0 0 2 2 9 6 0 0 5]\n",
            " [1 4 8 6 2 6 1 7 8 1]\n",
            " [7 4 3 2 5 2 4 6 2 2]\n",
            " [8 8 8 0 7 0 4 2 3 3]\n",
            " [1 2 1 5 3 3 3 2 0 1]]\n",
            "[[1 2 1 5 3 3 3 2 0 1]\n",
            " [8 8 8 0 7 0 4 2 3 3]\n",
            " [7 4 3 2 5 2 4 6 2 2]\n",
            " [1 4 8 6 2 6 1 7 8 1]\n",
            " [5 0 0 2 2 9 6 0 0 5]\n",
            " [4 7 8 1 3 5 3 7 9 3]\n",
            " [4 0 8 8 8 8 7 4 1 5]\n",
            " [5 9 7 0 3 7 1 8 8 9]\n",
            " [7 8 1 3 5 7 8 2 2 6]\n",
            " [2 2 2 3 0 8 9 1 8 0]]\n",
            "[[1 2 1 5 3 3 3 2 0 1]\n",
            " [8 8 8 0 7 0 4 2 3 3]\n",
            " [7 4 3 2 5 2 4 6 2 2]\n",
            " [1 4 8 6 2 6 1 7 8 1]\n",
            " [5 0 0 2 2 9 6 0 0 5]\n",
            " [4 7 8 1 3 5 3 7 9 3]\n",
            " [4 0 8 8 8 8 7 4 1 5]\n",
            " [5 9 7 0 3 7 1 8 8 9]\n",
            " [7 8 1 3 5 7 8 2 2 6]\n",
            " [2 2 2 3 0 8 9 1 8 0]]\n",
            "[[0 8 1 9 8 0 3 2 2 2]\n",
            " [6 2 2 8 7 5 3 1 8 7]\n",
            " [9 8 8 1 7 3 0 7 9 5]\n",
            " [5 1 4 7 8 8 8 8 0 4]\n",
            " [3 9 7 3 5 3 1 8 7 4]\n",
            " [5 0 0 6 9 2 2 0 0 5]\n",
            " [1 8 7 1 6 2 6 8 4 1]\n",
            " [2 2 6 4 2 5 2 3 4 7]\n",
            " [3 3 2 4 0 7 0 8 8 8]\n",
            " [1 0 2 3 3 3 5 1 2 1]]\n"
          ]
        }
      ]
    },
    {
      "cell_type": "code",
      "source": [
        "# Transpose this array\n",
        "\n",
        "random_mat = np.random.randint(0,10, size=[10,10])\n",
        "\n",
        "random_mat_transpose = random_mat.T\n",
        "print(random_mat_transpose)"
      ],
      "metadata": {
        "id": "ARnN4Zz4ugzz",
        "outputId": "fc702735-ea1f-4a0b-95fc-563d7cd03ba2",
        "colab": {
          "base_uri": "https://localhost:8080/"
        }
      },
      "execution_count": 32,
      "outputs": [
        {
          "output_type": "stream",
          "name": "stdout",
          "text": [
            "[[7 2 2 5 3 7 8 1 2 3]\n",
            " [3 1 8 5 8 2 5 6 7 3]\n",
            " [4 3 2 8 7 5 4 5 7 4]\n",
            " [6 5 9 2 5 8 6 6 3 9]\n",
            " [1 2 1 9 3 5 4 3 5 2]\n",
            " [6 4 2 2 6 8 6 3 4 4]\n",
            " [1 9 5 6 0 0 2 9 7 5]\n",
            " [8 2 5 4 2 9 9 5 1 8]\n",
            " [3 5 2 0 6 4 7 2 3 2]\n",
            " [5 7 4 6 9 3 3 0 3 5]]\n"
          ]
        }
      ]
    },
    {
      "cell_type": "code",
      "source": [
        "# Repeat the following 1x3 array 3 times to make a 3x3 matrix\n",
        "\n",
        "row = np.array([1,2,3])\n",
        "\n",
        "matrix = np.array([1,2,3]*3).reshape(3,3)\n",
        "print(matrix)\n",
        "matrix = np.array([1,2,3,4]*3).reshape(3,4)\n",
        "print(matrix)\n",
        "\n",
        "matrix = np.tile(row, 3).reshape(3,3)\n",
        "matrix"
      ],
      "metadata": {
        "id": "DA4nwQ4SASaD",
        "outputId": "e96829dd-9ea4-4595-9e69-192bb5a27207",
        "colab": {
          "base_uri": "https://localhost:8080/"
        }
      },
      "execution_count": 38,
      "outputs": [
        {
          "output_type": "stream",
          "name": "stdout",
          "text": [
            "[[1 2 3]\n",
            " [1 2 3]\n",
            " [1 2 3]]\n",
            "[[1 2 3 4]\n",
            " [1 2 3 4]\n",
            " [1 2 3 4]]\n"
          ]
        },
        {
          "output_type": "execute_result",
          "data": {
            "text/plain": [
              "array([[1, 2, 3],\n",
              "       [1, 2, 3],\n",
              "       [1, 2, 3]])"
            ]
          },
          "metadata": {},
          "execution_count": 38
        }
      ]
    },
    {
      "cell_type": "code",
      "source": [
        "matrix = np.vstack((row, row, row))\n",
        "matrix"
      ],
      "metadata": {
        "id": "aFj6hmm_NH7O",
        "outputId": "bddcda9e-856b-4687-c359-48e2ba8e9c73",
        "colab": {
          "base_uri": "https://localhost:8080/"
        }
      },
      "execution_count": 39,
      "outputs": [
        {
          "output_type": "execute_result",
          "data": {
            "text/plain": [
              "array([[1, 2, 3],\n",
              "       [1, 2, 3],\n",
              "       [1, 2, 3]])"
            ]
          },
          "metadata": {},
          "execution_count": 39
        }
      ]
    },
    {
      "cell_type": "code",
      "source": [
        "# Get the deteriminant of the following matrix:\n",
        "\n",
        "matrix = np.array([[1,2,3],\n",
        "                   [3,4,5],\n",
        "                   [6,7,8]])\n",
        "\n",
        "determinant = np.linalg.det(matrix)\n",
        "print(determinant)"
      ],
      "metadata": {
        "id": "r9KLsPQ7AnzX",
        "outputId": "f51b392c-357c-4f7e-e996-ca6e017b5dba",
        "colab": {
          "base_uri": "https://localhost:8080/"
        }
      },
      "execution_count": 40,
      "outputs": [
        {
          "output_type": "stream",
          "name": "stdout",
          "text": [
            "0.0\n"
          ]
        }
      ]
    },
    {
      "cell_type": "code",
      "source": [
        "# Generate a randomly distributed array with one global mean and one global variance\n",
        "\n",
        "\n",
        "mu = 5\n",
        "var = 5\n",
        "\n",
        "randn_mat = np.random.multivariate_normal(np.array([mu,]), \n",
        "                                          np.array([[var,]]),size=(1,100))\n",
        "\n",
        "# print(randn_mat)\n",
        "\n",
        "randn_mat2 = np.sqrt(var)*np.random.randn(100) + mu\n",
        "# print(randn_mat2)\n",
        "\n",
        "plt.hist(randn_mat[0], bins=3)\n",
        "plt.hist(randn_mat2, bins=3)"
      ],
      "metadata": {
        "id": "7PDKb0By_391",
        "outputId": "1a6a7c60-bf57-4562-9c14-5e9216d06574",
        "colab": {
          "base_uri": "https://localhost:8080/",
          "height": 317
        }
      },
      "execution_count": 58,
      "outputs": [
        {
          "output_type": "execute_result",
          "data": {
            "text/plain": [
              "(array([23., 50., 27.]),\n",
              " array([-0.1453463 ,  2.99070168,  6.12674966,  9.26279764]),\n",
              " <a list of 3 Patch objects>)"
            ]
          },
          "metadata": {},
          "execution_count": 58
        },
        {
          "output_type": "display_data",
          "data": {
            "text/plain": [
              "<Figure size 432x288 with 1 Axes>"
            ],
            "image/png": "[encoded data removed]"
          },
          "metadata": {
            "needs_background": "light"
          }
        }
      ]
    },
    {
      "cell_type": "markdown",
      "source": [
        "## Extra Questions\n",
        "\n",
        "* Which numpy function(s) concatenate multiple arrays together? \n",
        "* Which functions add an extra dimension to a numpy array along any axis?\n",
        "* How would you convert a matrix to a different datatype?\n",
        "* How can you calculate the memory constraints of a matrix given its datatype and shape before you allocate it?\n",
        "* How can we view the flags of a Numpy array?\n",
        "* What's the difference between an array of zeros and an empty array?"
      ],
      "metadata": {
        "id": "EzphdYzTgG3c"
      }
    },
    {
      "cell_type": "code",
      "source": [
        "np.array([np.array([1,2,3])]).shape\n",
        "\n",
        "\n",
        "np.array([1,2,3])[np.newaxis,:]\n"
      ],
      "metadata": {
        "id": "oLALG36LPeXm",
        "outputId": "18e3ab7c-df65-48a6-a057-7acf24ee2df1",
        "colab": {
          "base_uri": "https://localhost:8080/"
        }
      },
      "execution_count": 60,
      "outputs": [
        {
          "output_type": "execute_result",
          "data": {
            "text/plain": [
              "array([[1, 2, 3]])"
            ]
          },
          "metadata": {},
          "execution_count": 60
        }
      ]
    },
    {
      "cell_type": "code",
      "source": [
        ""
      ],
      "metadata": {
        "id": "BYohATOrP-Ir"
      },
      "execution_count": null,
      "outputs": []
    },
    {
      "cell_type": "markdown",
      "source": [
        "## Additional Reading\n",
        "\n",
        "Sparse matrices in Python (through SciPy)\n",
        "https://docs.scipy.org/doc/scipy/reference/sparse.html"
      ],
      "metadata": {
        "id": "wl6ehS6uVWpk"
      }
    }
  ]
}